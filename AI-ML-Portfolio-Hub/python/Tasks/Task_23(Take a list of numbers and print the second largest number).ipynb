{
 "cells": [
  {
   "cell_type": "code",
   "execution_count": 1,
   "id": "576d4fe6",
   "metadata": {},
   "outputs": [],
   "source": [
    "# Name: Mohamed Reda Ramadan Khamis\n",
    "# Phone Number: 01554725661"
   ]
  },
  {
   "cell_type": "markdown",
   "id": "7ac47d49",
   "metadata": {},
   "source": [
    "<span style=\"color:black; background-color:yellow; font-size:25px; font-weight:bold\">\n",
    "    Take a list of numbers and print the second largest number\n",
    " \n",
    "</span>"
   ]
  },
  {
   "cell_type": "code",
   "execution_count": 2,
   "id": "647c1085",
   "metadata": {},
   "outputs": [
    {
     "name": "stdout",
     "output_type": "stream",
     "text": [
      "The numbers after conversion from string to list :[10, 20, 30, 10, 40, 40, 50, 60]\n"
     ]
    }
   ],
   "source": [
    "# Take a list of numbers and print the second largest number\n",
    "numbers = list(map(int, input(\"Enter numbers separated by space: \").split()))\n",
    "print(f\"The numbers after conversion from string to list :{numbers}\")"
   ]
  },
  {
   "cell_type": "code",
   "execution_count": 3,
   "id": "8447c05a",
   "metadata": {},
   "outputs": [
    {
     "name": "stdout",
     "output_type": "stream",
     "text": [
      "The numbers after remove any duplicate :{40, 10, 50, 20, 60, 30}\n"
     ]
    }
   ],
   "source": [
    "num=set(numbers)  # To remove any duplicate numbers\n",
    "print(f\"The numbers after remove any duplicate :{num}\")"
   ]
  },
  {
   "cell_type": "code",
   "execution_count": 4,
   "id": "ba7099ec",
   "metadata": {},
   "outputs": [
    {
     "name": "stdout",
     "output_type": "stream",
     "text": [
      "The numbers after apply sort :[10, 20, 30, 40, 50, 60]\n"
     ]
    }
   ],
   "source": [
    "unique_number=list(num)\n",
    "unique_number.sort()\n",
    "print(f\"The numbers after apply sort :{unique_number}\")"
   ]
  },
  {
   "cell_type": "code",
   "execution_count": 5,
   "id": "9af9255a",
   "metadata": {},
   "outputs": [
    {
     "name": "stdout",
     "output_type": "stream",
     "text": [
      "The second largest number is: 50\n"
     ]
    }
   ],
   "source": [
    "if len(unique_number) >= 2:\n",
    "    print(f\"The second largest number is: {unique_number[-2]}\")\n",
    "else:\n",
    "    print(\"Not enough unique numbers\")"
   ]
  }
 ],
 "metadata": {
  "kernelspec": {
   "display_name": "Python 3",
   "language": "python",
   "name": "python3"
  },
  "language_info": {
   "codemirror_mode": {
    "name": "ipython",
    "version": 3
   },
   "file_extension": ".py",
   "mimetype": "text/x-python",
   "name": "python",
   "nbconvert_exporter": "python",
   "pygments_lexer": "ipython3",
   "version": "3.11.9"
  }
 },
 "nbformat": 4,
 "nbformat_minor": 5
}
