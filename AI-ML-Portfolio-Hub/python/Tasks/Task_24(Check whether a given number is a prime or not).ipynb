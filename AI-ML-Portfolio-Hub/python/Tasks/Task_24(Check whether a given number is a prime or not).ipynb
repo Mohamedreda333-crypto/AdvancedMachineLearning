{
 "cells": [
  {
   "cell_type": "code",
   "execution_count": 1,
   "id": "2e03bac2",
   "metadata": {},
   "outputs": [],
   "source": [
    "# Name: Mohamed Reda Ramadan Khamis\n",
    "# Phone Number: 01554725661"
   ]
  },
  {
   "cell_type": "markdown",
   "id": "5615a73f",
   "metadata": {},
   "source": [
    "<span style=\"color:black; background-color:yellow; font-size:25px; font-weight:bold\">\n",
    "    Check whether a given number is a prime or not\n",
    "</span>"
   ]
  },
  {
   "cell_type": "code",
   "execution_count": 2,
   "id": "efa603e5",
   "metadata": {},
   "outputs": [
    {
     "name": "stdout",
     "output_type": "stream",
     "text": [
      "you are enter the number: 17\n",
      "the number 17 is a prime number \n"
     ]
    }
   ],
   "source": [
    "#Check whether a given number is a prime or not\n",
    "# prime number: 2 3 5 7 11 13 17 19 23 ..........\n",
    "num_1 = int(input(\"Enter a number: \"))\n",
    "print(f\"you are enter the number: {num_1}\")\n",
    "\n",
    "if num_1 <= 1:\n",
    "    print(f\"the number {num_1} is not a prime number \")\n",
    "else:\n",
    "    is_prime = True\n",
    "    for i in range(2, num_1):   \n",
    "        if num_1 % i == 0:      \n",
    "            is_prime = False\n",
    "            break\n",
    "    \n",
    "    if is_prime:\n",
    "        print(f\"the number {num_1} is a prime number \")\n",
    "    else:\n",
    "        print(f\"the number {num_1} is not a prime number \")"
   ]
  }
 ],
 "metadata": {
  "kernelspec": {
   "display_name": "Python 3",
   "language": "python",
   "name": "python3"
  },
  "language_info": {
   "codemirror_mode": {
    "name": "ipython",
    "version": 3
   },
   "file_extension": ".py",
   "mimetype": "text/x-python",
   "name": "python",
   "nbconvert_exporter": "python",
   "pygments_lexer": "ipython3",
   "version": "3.11.9"
  }
 },
 "nbformat": 4,
 "nbformat_minor": 5
}
