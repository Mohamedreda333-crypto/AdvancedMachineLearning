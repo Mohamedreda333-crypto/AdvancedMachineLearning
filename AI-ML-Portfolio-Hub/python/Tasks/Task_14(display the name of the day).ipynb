{
 "cells": [
  {
   "cell_type": "code",
   "execution_count": 1,
   "id": "6365f775-8805-49f6-a182-b8365b43dc54",
   "metadata": {},
   "outputs": [],
   "source": [
    "# Name: Mohamed Reda Ramadan Khamis\n",
    "# Phone Number: 01554725661"
   ]
  },
  {
   "cell_type": "markdown",
   "id": "87fb3550-350d-429a-a4ac-44e3307818e6",
   "metadata": {},
   "source": [
    "<span style=\"color:black; background-color:yellow; font-size:25px; font-weight:bold\">\n",
    "    Write a program to accept a number from 1 to 7 and display the name of the day like 1 for Sunday , 2 for Monday and so on.\n",
    "</span>"
   ]
  },
  {
   "cell_type": "markdown",
   "id": "d8437573-cda9-4a40-99bc-fed9f69c757d",
   "metadata": {},
   "source": [
    "### **1-->Sunday**\n",
    "### **2-->Monday**\n",
    "### **3-->Tuesday**\n",
    "### **4-->Wednesday**\n",
    "### **5-->Thursday**\n",
    "### **6-->Friday**\n",
    "### **7-->Saturday**"
   ]
  },
  {
   "cell_type": "code",
   "execution_count": 2,
   "id": "3c3c9016-ae12-4ab5-9bcd-de73fbe89ef7",
   "metadata": {},
   "outputs": [
    {
     "name": "stdout",
     "output_type": "stream",
     "text": [
      "please enter the number from 1 to 7:  4\n"
     ]
    },
    {
     "name": "stdout",
     "output_type": "stream",
     "text": [
      "you are enter the number is 4 ,So i will diplay the name of the day for you\n",
      "the day is Wednesday\n"
     ]
    }
   ],
   "source": [
    "number=int(input(\"please enter the number from 1 to 7: \"))\n",
    "print(f\"you are enter the number is {number} ,So i will diplay the name of the day for you\")\n",
    "\n",
    "if number >= 1 and number <= 7:\n",
    "    if number == 1:\n",
    "        print(\"the day is Sunday\")\n",
    "    elif number == 2:\n",
    "        print(\"the day is Monday\")\n",
    "    elif number == 3:\n",
    "        print(\"the day is Tuesday\")\n",
    "    elif number == 4:\n",
    "        print(\"the day is Wednesday\")\n",
    "    elif number == 5:\n",
    "        print(\"the day is Thursday\")\n",
    "    elif number == 6:\n",
    "        print(\"the day is Friday\")\n",
    "    else:\n",
    "        print(\"the day is Saturday\")\n",
    "else:\n",
    "    print(\"Error,The number must between 1 and 7\")\n",
    "        "
   ]
  }
 ],
 "metadata": {
  "kernelspec": {
   "display_name": "Python 3 (ipykernel)",
   "language": "python",
   "name": "python3"
  },
  "language_info": {
   "codemirror_mode": {
    "name": "ipython",
    "version": 3
   },
   "file_extension": ".py",
   "mimetype": "text/x-python",
   "name": "python",
   "nbconvert_exporter": "python",
   "pygments_lexer": "ipython3",
   "version": "3.13.5"
  }
 },
 "nbformat": 4,
 "nbformat_minor": 5
}
