{
 "cells": [
  {
   "cell_type": "code",
   "execution_count": 1,
   "id": "1e3d13d5-5bf2-41e1-b0c9-2530ca2533e5",
   "metadata": {},
   "outputs": [],
   "source": [
    "# Name : Mohamed Reda Ramadan Khamis\n",
    "# Phone Number : 01554725661"
   ]
  },
  {
   "cell_type": "markdown",
   "id": "add16adb",
   "metadata": {},
   "source": [
    "<span style=\"color:black; background-color:yellow; font-size:25px; font-weight:bold\">\n",
    "    Write a program to find the largest number out of three numbers excepted from user.\n",
    "</span>"
   ]
  },
  {
   "cell_type": "code",
   "execution_count": 2,
   "id": "24e6cadf",
   "metadata": {},
   "outputs": [
    {
     "name": "stdout",
     "output_type": "stream",
     "text": [
      "you are enter the first number: 30\n",
      "----------------------------------------------------------------------------\n",
      "you are enter the Second number: 35\n",
      "----------------------------------------------------------------------------\n",
      "you are enter the Third number: 50\n",
      "----------------------------------------------------------------------------\n",
      "The third number is the largest: 50\n"
     ]
    }
   ],
   "source": [
    "num1 = int(input(\"Please Enter the first number: \"))\n",
    "print(f\"you are enter the first number: {num1}\")\n",
    "print(\"----------------------------------------------------------------------------\")\n",
    "\n",
    "num2 = int(input(\"Please Enter the Second number: \"))\n",
    "print(f\"you are enter the Second number: {num2}\")\n",
    "print(\"----------------------------------------------------------------------------\")\n",
    "\n",
    "\n",
    "num3 = int(input(\"Please Enter the Third number: \"))\n",
    "print(f\"you are enter the Third number: {num3}\")\n",
    "print(\"----------------------------------------------------------------------------\")\n",
    "\n",
    "\n",
    "if num1 > num2 and num1 > num3:\n",
    "    print(f\"The first number is the largest: {num1}\")\n",
    "elif num2 > num1 and num2 > num3:\n",
    "    print(f\"The second number is the largest: {num2}\")\n",
    "elif num3 > num1 and num3 > num2:\n",
    "    print(f\"The third number is the largest: {num3}\")\n",
    "    \n",
    "###################################################################################\n",
    "elif num1 == num2 and num1 > num3:\n",
    "    print(f\"The first and second numbers are equal and largest: {num1}\")\n",
    "elif num1 == num3 and num1 > num2:\n",
    "    print(f\"The first and third numbers are equal and largest: {num1}\")\n",
    "elif num2 == num3 and num2 > num1:\n",
    "    print(f\"The second and third numbers are equal and largest: {num2}\")\n",
    "elif num1 == num2 == num3:\n",
    "    print(f\"All three numbers are equal: {num1}\")\n",
    "\n",
    "else:\n",
    "    print(\"Unexpected case\")"
   ]
  }
 ],
 "metadata": {
  "kernelspec": {
   "display_name": "Python 3",
   "language": "python",
   "name": "python3"
  },
  "language_info": {
   "codemirror_mode": {
    "name": "ipython",
    "version": 3
   },
   "file_extension": ".py",
   "mimetype": "text/x-python",
   "name": "python",
   "nbconvert_exporter": "python",
   "pygments_lexer": "ipython3",
   "version": "3.11.9"
  }
 },
 "nbformat": 4,
 "nbformat_minor": 5
}
