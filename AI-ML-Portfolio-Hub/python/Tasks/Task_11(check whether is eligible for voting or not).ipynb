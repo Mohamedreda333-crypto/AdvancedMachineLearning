{
 "cells": [
  {
   "cell_type": "code",
   "execution_count": 1,
   "id": "865bbfef-9734-456e-bd41-015f7677ad65",
   "metadata": {},
   "outputs": [],
   "source": [
    "# Name : Mohamed Reda Ramadan Khamis\n",
    "# Phone Number : 01554725661"
   ]
  },
  {
   "cell_type": "markdown",
   "id": "11a96f64-5abf-42d7-a2a4-a501d0939fd0",
   "metadata": {},
   "source": [
    "<span style=\"color:black; background-color:yellow; font-size:25px; font-weight:bold\">\n",
    "    Write a program to check whether a person is eligible for voting or not. (accept age from user)\n",
    "</span>"
   ]
  },
  {
   "cell_type": "code",
   "execution_count": 1,
   "id": "7d2caee5-33d0-45ac-b905-5a5c9651f251",
   "metadata": {},
   "outputs": [
    {
     "name": "stdout",
     "output_type": "stream",
     "text": [
      "your age is  19\n",
      "Congratulations! You are eligible for voting\n"
     ]
    }
   ],
   "source": [
    "age=int(input(\"Please Enter your age: \"))\n",
    "print(\"your age is \",age) \n",
    "\n",
    "if age >= 18:\n",
    "    print(\"Congratulations! You are eligible for voting\")\n",
    "elif age < 18 and age >=0:\n",
    "    print(\"Sorry! You are not eligible for voting\")\n",
    "else:\n",
    "    print(\"You entered a negative number and there is no negative age\")\n",
    "    print(\"Please Enter postive number\")"
   ]
  }
 ],
 "metadata": {
  "kernelspec": {
   "display_name": "Python 3",
   "language": "python",
   "name": "python3"
  },
  "language_info": {
   "codemirror_mode": {
    "name": "ipython",
    "version": 3
   },
   "file_extension": ".py",
   "mimetype": "text/x-python",
   "name": "python",
   "nbconvert_exporter": "python",
   "pygments_lexer": "ipython3",
   "version": "3.11.9"
  }
 },
 "nbformat": 4,
 "nbformat_minor": 5
}
