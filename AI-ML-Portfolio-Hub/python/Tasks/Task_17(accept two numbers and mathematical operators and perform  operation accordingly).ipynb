{
 "cells": [
  {
   "cell_type": "code",
   "execution_count": 1,
   "id": "b1f89e9f-61f2-471b-86e3-559047884d7b",
   "metadata": {},
   "outputs": [],
   "source": [
    "# Name : Mohamed Reda Ramadan Khamis\n",
    "# Phone Number : 01554725661"
   ]
  },
  {
   "cell_type": "markdown",
   "id": "5ac1a4f5",
   "metadata": {},
   "source": [
    "<span style=\"color:black; background-color:yellow; font-size:25px; font-weight:bold\">\n",
    "    write a program to accept two numbers and mathematical operators and perform \n",
    "operation accordingly.Like: Enter First Number: 7    Enter Second Number : 9 Enter operator : + Your Answer is : 1\n",
    "</span>"
   ]
  },
  {
   "cell_type": "markdown",
   "id": "15ef6636",
   "metadata": {},
   "source": [
    "### **Solve This problem Mathmatically**\n",
    "<div align=\"center\"> <img src=\"C:\\Users\\PC\\Downloads\\5935987374414743693.jpg\" alt=\"electricity bill\" width=\"500\" height=\"800\"> </div>"
   ]
  },
  {
   "cell_type": "code",
   "execution_count": 2,
   "id": "d7050d1b",
   "metadata": {},
   "outputs": [
    {
     "name": "stdout",
     "output_type": "stream",
     "text": [
      "you are enter the first number: 3.0\n",
      "----------------------------------------------------------------------------\n",
      "you are enter the Second number: 4.0\n",
      "----------------------------------------------------------------------------\n",
      "you are choose the Operator: *\n",
      "----------------------------------------------------------------------------\n",
      "The Multiplication of the two numbers is: 12.0\n"
     ]
    }
   ],
   "source": [
    "number1=float(input(\"Please enter the first number: \"))\n",
    "print(f\"you are enter the first number: {number1}\")\n",
    "print(\"----------------------------------------------------------------------------\")\n",
    "\n",
    "number2=float(input(\"Please enter the second number: \"))\n",
    "print(f\"you are enter the Second number: {number2}\")\n",
    "print(\"----------------------------------------------------------------------------\")\n",
    "\n",
    "operator = input(\"Enter operator (+, -, *, /, %,**): \").strip()\n",
    "print(f\"you are choose the Operator: {operator}\")\n",
    "print(\"----------------------------------------------------------------------------\")\n",
    "\n",
    "if operator == \"+\":\n",
    "    S1 = number1 + number2\n",
    "    print(f\"The summation of the two numbers is: {S1}\")\n",
    "\n",
    "elif operator == \"-\":\n",
    "    S2 = number1 - number2\n",
    "    print(f\"The subtraction of the two numbers is: {S2}\")\n",
    "\n",
    "elif operator ==\"*\":\n",
    "    M = number1*number2\n",
    "    print(f\"The Multiplication of the two numbers is: {M}\")\n",
    "\n",
    "elif operator == \"/\":\n",
    "    if num2 == 0:\n",
    "        D = \"Division by zero is not allowed.\"\n",
    "    else:\n",
    "        D = num1 / num2\n",
    "    print(f\"The Division of the two numbers is: {D}\")\n",
    "\n",
    "    \n",
    "elif operator == \"%\":\n",
    "    if num2 == 0:\n",
    "        R = \"Modulus by zero is not allowed.\"\n",
    "    else:\n",
    "        R = num1 % num2\n",
    "    print(f\"The Modulus of the two numbers is: {R}\")\n",
    "\n",
    "else:\n",
    "    result = \"Invalid operator! Please use one of (+, -, *, /, %,**)\"\n",
    "    print(\"result\")"
   ]
  }
 ],
 "metadata": {
  "kernelspec": {
   "display_name": "Python 3",
   "language": "python",
   "name": "python3"
  },
  "language_info": {
   "codemirror_mode": {
    "name": "ipython",
    "version": 3
   },
   "file_extension": ".py",
   "mimetype": "text/x-python",
   "name": "python",
   "nbconvert_exporter": "python",
   "pygments_lexer": "ipython3",
   "version": "3.11.9"
  }
 },
 "nbformat": 4,
 "nbformat_minor": 5
}
