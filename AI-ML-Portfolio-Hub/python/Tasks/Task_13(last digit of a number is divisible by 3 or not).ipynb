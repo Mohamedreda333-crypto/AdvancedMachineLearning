{
 "cells": [
  {
   "cell_type": "code",
   "execution_count": 2,
   "id": "521f3a85",
   "metadata": {},
   "outputs": [],
   "source": [
    "# Name : Mohamed Reda Ramadan Khamis\n",
    "# Phone Number : 01554725661"
   ]
  },
  {
   "cell_type": "markdown",
   "id": "2cc55cf9",
   "metadata": {},
   "source": [
    "<span style=\"color:black; background-color:yellow; font-size:25px; font-weight:bold\">\n",
    "    Write a program to check whether the last digit of a number( entered by user ) is divisible by 3 or not.\n",
    "</span>"
   ]
  },
  {
   "cell_type": "code",
   "execution_count": 1,
   "id": "5a7fd3bc-0200-4d23-af60-d839a40f7f54",
   "metadata": {},
   "outputs": [
    {
     "name": "stdout",
     "output_type": "stream",
     "text": [
      "this number 123 is postive\n",
      "it can be apply the check on the last digit of a number directly\n",
      "The last digit 3 is divisible by 3\n"
     ]
    }
   ],
   "source": [
    "num = int(input(\"Enter a number: \"))\n",
    "if num < 0:\n",
    "    print(f\"this number {num} is negative\")\n",
    "    num=abs(num)\n",
    "else:\n",
    "    print(f\"this number {num} is postive\")\n",
    "    print(\"it can be apply the check on the last digit of a number directly\")\n",
    "\n",
    "last_digit=num % 10      \n",
    "\n",
    "if last_digit % 3 == 0:\n",
    "    print(f\"The last digit {last_digit} is divisible by 3\")\n",
    "else:\n",
    "    print(f\"The last digit {last_digit} is not divisible by 3\")"
   ]
  }
 ],
 "metadata": {
  "kernelspec": {
   "display_name": "Python 3",
   "language": "python",
   "name": "python3"
  },
  "language_info": {
   "codemirror_mode": {
    "name": "ipython",
    "version": 3
   },
   "file_extension": ".py",
   "mimetype": "text/x-python",
   "name": "python",
   "nbconvert_exporter": "python",
   "pygments_lexer": "ipython3",
   "version": "3.11.9"
  }
 },
 "nbformat": 4,
 "nbformat_minor": 5
}
