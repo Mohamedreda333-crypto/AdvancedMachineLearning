{
 "cells": [
  {
   "cell_type": "code",
   "execution_count": 1,
   "id": "3e7081a2-3bda-49d8-9ad1-44b23c0f4032",
   "metadata": {},
   "outputs": [],
   "source": [
    "# Name: Mohamed Reda Ramadan Khamis\n",
    "# Phone Number: 01554725661"
   ]
  },
  {
   "cell_type": "markdown",
   "id": "7d94da49-b0e2-4795-b029-3b816a30b93f",
   "metadata": {},
   "source": [
    "<span style=\"color:black; background-color:yellow; font-size:25px; font-weight:bold\">\n",
    "    Calculate the sum of all numbers from 1 to a given number\n",
    " \n",
    "</span>"
   ]
  },
  {
   "cell_type": "code",
   "execution_count": 2,
   "id": "dbeb8070-73b9-4963-a8c4-510f403d8e2d",
   "metadata": {},
   "outputs": [
    {
     "name": "stdin",
     "output_type": "stream",
     "text": [
      "Please enter the number:  5\n"
     ]
    },
    {
     "name": "stdout",
     "output_type": "stream",
     "text": [
      "The sum of all number from 1 to 5 is 15\n"
     ]
    }
   ],
   "source": [
    "given_number = int(input(\"Please enter the number: \"))\n",
    "sum1=0\n",
    "\n",
    "for i in range(1, given_number + 1):\n",
    "    sum1+=i\n",
    "print(f\"The sum of all number from 1 to {given_number} is {sum1}\")"
   ]
  }
 ],
 "metadata": {
  "kernelspec": {
   "display_name": "Python 3 (ipykernel)",
   "language": "python",
   "name": "python3"
  },
  "language_info": {
   "codemirror_mode": {
    "name": "ipython",
    "version": 3
   },
   "file_extension": ".py",
   "mimetype": "text/x-python",
   "name": "python",
   "nbconvert_exporter": "python",
   "pygments_lexer": "ipython3",
   "version": "3.13.5"
  }
 },
 "nbformat": 4,
 "nbformat_minor": 5
}
