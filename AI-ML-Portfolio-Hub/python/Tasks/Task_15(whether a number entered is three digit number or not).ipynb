{
 "cells": [
  {
   "cell_type": "code",
   "execution_count": 1,
   "id": "5a240838-7551-4118-8538-c9771738f217",
   "metadata": {},
   "outputs": [],
   "source": [
    "# Name : Mohamed Reda Ramadan Khamis\n",
    "# Phone Number : 01554725661"
   ]
  },
  {
   "cell_type": "markdown",
   "id": "f115aa9f",
   "metadata": {},
   "source": [
    "<span style=\"color:black; background-color:yellow; font-size:25px; font-weight:bold\">\n",
    "    Write a program to check whether a number entered is three digit number or not.\n",
    "</span>"
   ]
  },
  {
   "cell_type": "markdown",
   "id": "6c56163b",
   "metadata": {},
   "source": [
    "### **i will take the number as string to use len function(build in function) , i will use strip function to remove and spaces from string and i will use isdigit() function to sure the string is digit(numbers)**   "
   ]
  },
  {
   "cell_type": "code",
   "execution_count": 2,
   "id": "74552f40",
   "metadata": {},
   "outputs": [
    {
     "name": "stdout",
     "output_type": "stream",
     "text": [
      "Nice, you are Enter positive number\n",
      "567 is a three-digit number\n"
     ]
    }
   ],
   "source": [
    "y=input(\"please enter the number: \")\n",
    "number_1=y.strip()\n",
    "\n",
    "###################################################################################################################\n",
    "if number_1[0] == '-':\n",
    "    print(f\"the number {number_1} is negative number\")\n",
    "    print(\"The number after convert from negative to positive\")\n",
    "    \n",
    "    digits=number_1[1:]\n",
    "\n",
    "    print(f\"The number become {digits}\")\n",
    "\n",
    "else:\n",
    "    print(\"Nice, you are Enter positive number\")\n",
    "    digits = number_1\n",
    "\n",
    "##################################################################################################################\n",
    "\n",
    "if digits.isdigit():\n",
    "    if len(digits) == 3:\n",
    "        print(f\"{digits} is a three-digit number\")\n",
    "    else:\n",
    "        print(f\"{digits} is not a three-digit number\")\n",
    "else:\n",
    "    print(\"Error: Please enter a valid integer number\")"
   ]
  }
 ],
 "metadata": {
  "kernelspec": {
   "display_name": "Python 3",
   "language": "python",
   "name": "python3"
  },
  "language_info": {
   "codemirror_mode": {
    "name": "ipython",
    "version": 3
   },
   "file_extension": ".py",
   "mimetype": "text/x-python",
   "name": "python",
   "nbconvert_exporter": "python",
   "pygments_lexer": "ipython3",
   "version": "3.11.9"
  }
 },
 "nbformat": 4,
 "nbformat_minor": 5
}
