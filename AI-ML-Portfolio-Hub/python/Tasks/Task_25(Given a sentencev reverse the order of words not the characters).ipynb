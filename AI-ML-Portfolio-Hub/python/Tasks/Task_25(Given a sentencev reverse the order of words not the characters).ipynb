{
 "cells": [
  {
   "cell_type": "code",
   "execution_count": 1,
   "id": "4cd02812",
   "metadata": {},
   "outputs": [],
   "source": [
    "# Name: Mohamed Reda Ramadan Khamis\n",
    "# Phone Number: 01554725661"
   ]
  },
  {
   "cell_type": "markdown",
   "id": "a4fed665",
   "metadata": {},
   "source": [
    "<span style=\"color:black; background-color:yellow; font-size:25px; font-weight:bold\">\n",
    "    Given a sentence, reverse the order of words (not the characters)\n",
    "</span>"
   ]
  },
  {
   "cell_type": "code",
   "execution_count": 2,
   "id": "103ca2e6",
   "metadata": {},
   "outputs": [
    {
     "name": "stdout",
     "output_type": "stream",
     "text": [
      "you are enter the string: I love my Mother\n",
      "the string after conversion: ['I', 'love', 'my', 'Mother']\n",
      "the list after Reversed: ['Mother', 'my', 'love', 'I']\n",
      "the Reversed sentence is: Mother my love I\n"
     ]
    }
   ],
   "source": [
    "# Given a sentence, reverse the order of words (not the characters)\n",
    "sentence = input(\"Enter a sentence: \")\n",
    "print(f\"you are enter the string: {sentence}\")\n",
    "\n",
    "words = sentence.split() # to convert from string to list\n",
    "print(f\"the string after conversion: {words}\")\n",
    "\n",
    "reversed_words = words[::-1]\n",
    "print(f\"the list after Reversed: {reversed_words}\")\n",
    "\n",
    "result = \" \".join(reversed_words)\n",
    "print(f\"the Reversed sentence is: {result}\")"
   ]
  }
 ],
 "metadata": {
  "kernelspec": {
   "display_name": "Python 3",
   "language": "python",
   "name": "python3"
  },
  "language_info": {
   "codemirror_mode": {
    "name": "ipython",
    "version": 3
   },
   "file_extension": ".py",
   "mimetype": "text/x-python",
   "name": "python",
   "nbconvert_exporter": "python",
   "pygments_lexer": "ipython3",
   "version": "3.11.9"
  }
 },
 "nbformat": 4,
 "nbformat_minor": 5
}
