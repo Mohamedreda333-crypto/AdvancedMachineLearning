{
 "cells": [
  {
   "cell_type": "code",
   "execution_count": 2,
   "id": "6df89679-be0f-47b6-935c-25f49ceb5ca9",
   "metadata": {},
   "outputs": [],
   "source": [
    "# Name: Mohamed Reda Ramadan Khamis\n",
    "# Phone Number: 01554725661"
   ]
  },
  {
   "cell_type": "markdown",
   "id": "2852fcee-10a3-4245-82a6-b3643838ce15",
   "metadata": {},
   "source": [
    "<span style=\"color:black; background-color:yellow; font-size:25px; font-weight:bold\">\n",
    "     Print the following pattern using for loop : \n",
    " \n",
    "</span>"
   ]
  },
  {
   "cell_type": "markdown",
   "id": "9dc1f13f-4845-4368-b94b-063e63fa23b3",
   "metadata": {},
   "source": [
    "<div align=\"center\"> <img src=\"C:\\Users\\PC\\Pictures\\Screenshots\\Screenshot 2025-09-19 025449.png\" alt=\"electricity bill\" width=\"150\" height=80\"> </div>"
   ]
  },
  {
   "cell_type": "code",
   "execution_count": 3,
   "id": "facbe8fd-8662-40c1-a87e-5b5d68d3d29d",
   "metadata": {},
   "outputs": [
    {
     "name": "stdout",
     "output_type": "stream",
     "text": [
      "* \n",
      "* * \n",
      "* * * \n",
      "* * * * \n",
      "* * * * * \n"
     ]
    }
   ],
   "source": [
    "R_1=5\n",
    "for i in range(1,R_1+1):\n",
    "    print(\"* \" * i)"
   ]
  },
  {
   "cell_type": "code",
   "execution_count": 4,
   "id": "10336df9-43bb-43d3-ba95-2fb1f478fbdc",
   "metadata": {},
   "outputs": [
    {
     "name": "stdout",
     "output_type": "stream",
     "text": [
      "* * * * \n",
      "* * * \n",
      "* * \n",
      "* \n"
     ]
    }
   ],
   "source": [
    "R_2=5\n",
    "for i in range(R_2-1,0,-1):\n",
    "    print(\"* \" * i)"
   ]
  },
  {
   "cell_type": "code",
   "execution_count": 5,
   "id": "3ed7c7f6",
   "metadata": {},
   "outputs": [
    {
     "name": "stdout",
     "output_type": "stream",
     "text": [
      "* \n",
      "* * \n",
      "* * * \n",
      "* * * * \n",
      "* * * * * \n",
      "* * * * \n",
      "* * * \n",
      "* * \n",
      "* \n"
     ]
    }
   ],
   "source": [
    "Raws=5\n",
    "\n",
    "for i in range(1,Raws+1):\n",
    "    print(\"* \" * i)\n",
    "\n",
    "for i in range(Raws-1,0,-1):\n",
    "    print(\"* \" * i)"
   ]
  }
 ],
 "metadata": {
  "kernelspec": {
   "display_name": "Python 3",
   "language": "python",
   "name": "python3"
  },
  "language_info": {
   "codemirror_mode": {
    "name": "ipython",
    "version": 3
   },
   "file_extension": ".py",
   "mimetype": "text/x-python",
   "name": "python",
   "nbconvert_exporter": "python",
   "pygments_lexer": "ipython3",
   "version": "3.11.9"
  }
 },
 "nbformat": 4,
 "nbformat_minor": 5
}
