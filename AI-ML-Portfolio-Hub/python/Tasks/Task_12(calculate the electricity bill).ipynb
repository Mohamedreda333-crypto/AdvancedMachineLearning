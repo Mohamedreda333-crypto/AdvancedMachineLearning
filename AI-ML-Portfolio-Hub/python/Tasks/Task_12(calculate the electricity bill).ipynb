{
 "cells": [
  {
   "cell_type": "code",
   "execution_count": 1,
   "id": "0e373044-7bd7-49a7-9249-64e3103418fd",
   "metadata": {},
   "outputs": [],
   "source": [
    "# Name: Mohamed Reda Ramadan Khamis\n",
    "# Phone Number: 01554725661"
   ]
  },
  {
   "cell_type": "markdown",
   "id": "1c580c21-1549-4466-9460-e7f38bf7e371",
   "metadata": {},
   "source": [
    "<span style=\"color:black; background-color:yellow; font-size:25px; font-weight:bold\">\n",
    "    Write a program to calculate the electricity bill (accept number of unit from user) according to the following criteria :\n",
    "</span>\n",
    "<div align=\"center\"> <img src=\"C:\\Users\\PC\\Pictures\\Screenshots\\Screenshot 2025-09-18 160232.png\" alt=\"electricity bill\" width=\"500\" height=\"1000\"> </div>"
   ]
  },
  {
   "cell_type": "markdown",
   "id": "e87c794b-ef40-4caf-a2d9-97db54d3287e",
   "metadata": {},
   "source": [
    "### **Solve This problem Mathmatically**\n",
    "<div align=\"center\"> <img src=\"C:\\Users\\PC\\Downloads\\5936115205526376510.jpg\" alt=\"electricity bill\" width=\"500\" height=\"800\"> </div>"
   ]
  },
  {
   "cell_type": "code",
   "execution_count": 1,
   "id": "5ffd0286-a380-49f0-b4c0-daf4fb49502b",
   "metadata": {},
   "outputs": [
    {
     "name": "stdout",
     "output_type": "stream",
     "text": [
      "you are enter the units is 350 , So the price is (RS 10 per unit)\n",
      "Total electricity bill is Rs 2000\n"
     ]
    }
   ],
   "source": [
    "units = int(input(\"Enter number of units consumed: \"))\n",
    "bill=0\n",
    "\n",
    "if units >=0 and units<=100:\n",
    "    print(f\"you are enter the units is {units} , So the price is Free(No Charge)\")\n",
    "    bill = 0\n",
    "\n",
    "elif units > 100 and units <=200:\n",
    "    print(f\"you are enter the units is {units} , So the price is (RS 5 per unit)\")\n",
    "    bill = (units - 100)*5\n",
    "\n",
    "elif units > 200:\n",
    "    print(f\"you are enter the units is {units} , So the price is (RS 10 per unit)\")\n",
    "    bill =  (100*5) +(units-200)*10\n",
    "else:\n",
    "    print(f\"you are enter the units is {units} , it is impossible(the units is negative)\")\n",
    "\n",
    "print(\"Total electricity bill is Rs\", bill)\n",
    "\n",
    "# print(f\"Total electricity bill is Rs is {bill}\")\n",
    "#print(\"Total electricity bill is Rs is {}\").format(bill)"
   ]
  }
 ],
 "metadata": {
  "kernelspec": {
   "display_name": "Python 3",
   "language": "python",
   "name": "python3"
  },
  "language_info": {
   "codemirror_mode": {
    "name": "ipython",
    "version": 3
   },
   "file_extension": ".py",
   "mimetype": "text/x-python",
   "name": "python",
   "nbconvert_exporter": "python",
   "pygments_lexer": "ipython3",
   "version": "3.11.9"
  }
 },
 "nbformat": 4,
 "nbformat_minor": 5
}
