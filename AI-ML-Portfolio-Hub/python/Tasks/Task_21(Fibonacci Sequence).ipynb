{
 "cells": [
  {
   "cell_type": "code",
   "execution_count": 1,
   "id": "a77e4d68",
   "metadata": {},
   "outputs": [],
   "source": [
    "# Name: Mohamed Reda Ramadan Khamis\n",
    "# Phone Number: 01554725661"
   ]
  },
  {
   "cell_type": "markdown",
   "id": "48d92cd4",
   "metadata": {},
   "source": [
    "<span style=\"color:black; background-color:yellow; font-size:25px; font-weight:bold\">\n",
    "    Print the first 20 numbers of the Fibonacci sequence (no recursion)\n",
    " \n",
    "</span>"
   ]
  },
  {
   "cell_type": "code",
   "execution_count": 2,
   "id": "253313d1",
   "metadata": {},
   "outputs": [],
   "source": [
    "#Print the first 20 numbers of the Fibonacci sequence (no recursion)\n",
    "# 0 1 1 2 3 5 8 13 ....................\n",
    "def fibonacci(number):\n",
    "    fib_sequence = []\n",
    "    a, b = 0, 1\n",
    "    for i in range(number):\n",
    "        fib_sequence.append(a)\n",
    "        a, b = b, a + b\n",
    "    return fib_sequence"
   ]
  },
  {
   "cell_type": "code",
   "execution_count": 3,
   "id": "1e1d61ee",
   "metadata": {},
   "outputs": [
    {
     "name": "stdout",
     "output_type": "stream",
     "text": [
      "[0, 1, 1, 2, 3, 5, 8, 13, 21, 34, 55, 89, 144, 233, 377, 610, 987, 1597, 2584, 4181]\n"
     ]
    }
   ],
   "source": [
    "# Print first 20 numbers\n",
    "x=fibonacci(20)\n",
    "print(x)"
   ]
  }
 ],
 "metadata": {
  "kernelspec": {
   "display_name": "Python 3",
   "language": "python",
   "name": "python3"
  },
  "language_info": {
   "codemirror_mode": {
    "name": "ipython",
    "version": 3
   },
   "file_extension": ".py",
   "mimetype": "text/x-python",
   "name": "python",
   "nbconvert_exporter": "python",
   "pygments_lexer": "ipython3",
   "version": "3.11.9"
  }
 },
 "nbformat": 4,
 "nbformat_minor": 5
}
