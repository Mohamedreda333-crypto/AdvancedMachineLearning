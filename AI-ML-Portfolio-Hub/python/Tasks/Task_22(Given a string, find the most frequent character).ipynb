{
 "cells": [
  {
   "cell_type": "code",
   "execution_count": 1,
   "id": "fbbd04ec",
   "metadata": {},
   "outputs": [],
   "source": [
    "# Name: Mohamed Reda Ramadan Khamis\n",
    "# Phone Number: 01554725661"
   ]
  },
  {
   "cell_type": "markdown",
   "id": "cfac1da7",
   "metadata": {},
   "source": [
    "<span style=\"color:black; background-color:yellow; font-size:25px; font-weight:bold\">\n",
    "    Given a string, find the most frequent character\n",
    " \n",
    "</span>"
   ]
  },
  {
   "cell_type": "code",
   "execution_count": 3,
   "id": "90b66d69",
   "metadata": {},
   "outputs": [],
   "source": [
    "#Given a string, find the most frequent character\n",
    "def most_frequent_char(text):\n",
    "    most_char = \"\" \n",
    "    max_count = 0\n",
    "\n",
    "    for char in text:\n",
    "        count = text.count(char)\n",
    "        if count > max_count:\n",
    "            max_count = count\n",
    "            most_char = char\n",
    "    print(\"Most frequent character:\", most_char)\n",
    "    print(\"Occurrences:\", max_count)\n"
   ]
  },
  {
   "cell_type": "code",
   "execution_count": 4,
   "id": "a42a9601",
   "metadata": {},
   "outputs": [
    {
     "name": "stdout",
     "output_type": "stream",
     "text": [
      "Most frequent character: a\n",
      "Occurrences: 5\n"
     ]
    }
   ],
   "source": [
    "x=most_frequent_char(\"Mohamedredaramadan \")"
   ]
  }
 ],
 "metadata": {
  "kernelspec": {
   "display_name": "Python 3",
   "language": "python",
   "name": "python3"
  },
  "language_info": {
   "codemirror_mode": {
    "name": "ipython",
    "version": 3
   },
   "file_extension": ".py",
   "mimetype": "text/x-python",
   "name": "python",
   "nbconvert_exporter": "python",
   "pygments_lexer": "ipython3",
   "version": "3.11.9"
  }
 },
 "nbformat": 4,
 "nbformat_minor": 5
}
